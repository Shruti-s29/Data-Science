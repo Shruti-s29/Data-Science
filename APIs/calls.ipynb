{
 "cells": [
  {
   "cell_type": "code",
   "execution_count": 2,
   "metadata": {},
   "outputs": [],
   "source": [
    "import requests\n",
    "import json"
   ]
  },
  {
   "cell_type": "code",
   "execution_count": null,
   "metadata": {},
   "outputs": [],
   "source": [
    "response = requests.get(url='http://dog.ceo/api/breeds/list/all')\n",
    "# response.status_code\n",
    "# response.headers\n",
    "# response.text"
   ]
  },
  {
   "cell_type": "code",
   "execution_count": 4,
   "metadata": {},
   "outputs": [
    {
     "name": "stdout",
     "output_type": "stream",
     "text": [
      "<class 'dict'>\n"
     ]
    }
   ],
   "source": [
    "pydata = response.json()        # converts to python dictionary\n",
    "# py2 = json.loads(response)\n",
    "print(type(pydata))"
   ]
  },
  {
   "attachments": {},
   "cell_type": "markdown",
   "metadata": {},
   "source": [
    "Print all sub-breeds of hound by making a get request to url and print each in different line."
   ]
  },
  {
   "cell_type": "code",
   "execution_count": null,
   "metadata": {},
   "outputs": [],
   "source": [
    "# I have discovered this list comprehension technique for printing each elem in a list\n",
    "l = [print(i) for i in pydata['message']['hound']]   "
   ]
  },
  {
   "attachments": {},
   "cell_type": "markdown",
   "metadata": {},
   "source": [
    "Print the count of all sub-breeds of poodle from the url."
   ]
  },
  {
   "cell_type": "code",
   "execution_count": null,
   "metadata": {},
   "outputs": [],
   "source": [
    "print(len(pydata['message']['poodle']))"
   ]
  },
  {
   "attachments": {},
   "cell_type": "markdown",
   "metadata": {},
   "source": [
    "Print all the online courses offered by coding ninjas. url = 'https://api.codingninjas.com/api/v3/courses'"
   ]
  },
  {
   "cell_type": "code",
   "execution_count": null,
   "metadata": {},
   "outputs": [],
   "source": [
    "resp = requests.get(url = 'https://api.codingninjas.com/api/v3/courses')\n",
    "# resp.text\n",
    "pydata1 = resp.json()\n",
    "# pydata1\n",
    "courses = pydata1['data']['courses']\n",
    "online_courses = []\n",
    "for each_course in courses:\n",
    "    if each_course['available_online']:\n",
    "        online_courses.append(each_course['online_title'])\n",
    "print('Count of online courses',len(online_courses))\n",
    "l = [print(i) for i in online_courses]\n",
    "\n",
    "# print name of the course having id =19\n",
    "for i in range(len(courses)):\n",
    "    if courses[i]['id'] ==19:\n",
    "        print(courses[i]['title'])          # ans = Machine Learning"
   ]
  },
  {
   "attachments": {},
   "cell_type": "markdown",
   "metadata": {},
   "source": [
    "Print total number of cities of country AU from url = 'https://api.openaq.org/v1/cities'"
   ]
  },
  {
   "cell_type": "code",
   "execution_count": null,
   "metadata": {},
   "outputs": [],
   "source": [
    "resp1 = requests.get(url = 'https://api.openaq.org/v1/cities',params={'country':'AU'})\n",
    "pydata2 = resp1.json()\n",
    "# pydata2\n",
    "cnt=0\n",
    "for item in pydata2['results']:\n",
    "    if item['city']:\n",
    "        cnt+=1\n",
    "\n",
    "print(cnt)"
   ]
  },
  {
   "attachments": {},
   "cell_type": "markdown",
   "metadata": {},
   "source": [
    "search for USA and print its woeid (where on earth id)\n",
    "url = 'https://www.metaweather.com/api/location/search/'"
   ]
  },
  {
   "cell_type": "code",
   "execution_count": 26,
   "metadata": {},
   "outputs": [
    {
     "data": {
      "text/plain": [
       "<Response [404]>"
      ]
     },
     "execution_count": 26,
     "metadata": {},
     "output_type": "execute_result"
    }
   ],
   "source": [
    "# resp2 = requests.get(url = 'https://www.metaweather.com/api/location/search/')\n",
    "# resp2\n",
    "### 404"
   ]
  },
  {
   "attachments": {},
   "cell_type": "markdown",
   "metadata": {},
   "source": [
    "Find name of holiday on 2nd October 2019 country India.\n",
    "url = 'https://holidayapi.com/'"
   ]
  },
  {
   "cell_type": "code",
   "execution_count": 30,
   "metadata": {},
   "outputs": [
    {
     "data": {
      "text/plain": [
       "402"
      ]
     },
     "execution_count": 30,
     "metadata": {},
     "output_type": "execute_result"
    }
   ],
   "source": [
    "resp3 = requests.get(url = 'https://holidayapi.com/v1/holidays?pretty&key=262aec30-96df-4e48-8aec-3df134e807a2&country=IN&year=2018')\n",
    "resp3.status_code\n",
    "\n",
    "#### 402"
   ]
  },
  {
   "cell_type": "code",
   "execution_count": 32,
   "metadata": {},
   "outputs": [
    {
     "data": {
      "text/plain": [
       "{'id': 126250425,\n",
       " 'node_id': 'MDEwOlJlcG9zaXRvcnkxMjYyNTA0MjU=',\n",
       " 'name': 'go-cloud',\n",
       " 'full_name': 'google/go-cloud',\n",
       " 'private': False,\n",
       " 'owner': {'login': 'google',\n",
       "  'id': 1342004,\n",
       "  'node_id': 'MDEyOk9yZ2FuaXphdGlvbjEzNDIwMDQ=',\n",
       "  'avatar_url': 'https://avatars.githubusercontent.com/u/1342004?v=4',\n",
       "  'gravatar_id': '',\n",
       "  'url': 'https://api.github.com/users/google',\n",
       "  'html_url': 'https://github.com/google',\n",
       "  'followers_url': 'https://api.github.com/users/google/followers',\n",
       "  'following_url': 'https://api.github.com/users/google/following{/other_user}',\n",
       "  'gists_url': 'https://api.github.com/users/google/gists{/gist_id}',\n",
       "  'starred_url': 'https://api.github.com/users/google/starred{/owner}{/repo}',\n",
       "  'subscriptions_url': 'https://api.github.com/users/google/subscriptions',\n",
       "  'organizations_url': 'https://api.github.com/users/google/orgs',\n",
       "  'repos_url': 'https://api.github.com/users/google/repos',\n",
       "  'events_url': 'https://api.github.com/users/google/events{/privacy}',\n",
       "  'received_events_url': 'https://api.github.com/users/google/received_events',\n",
       "  'type': 'Organization',\n",
       "  'site_admin': False},\n",
       " 'html_url': 'https://github.com/google/go-cloud',\n",
       " 'description': 'The Go Cloud Development Kit (Go CDK): A library and tools for open cloud development in Go.',\n",
       " 'fork': False,\n",
       " 'url': 'https://api.github.com/repos/google/go-cloud',\n",
       " 'forks_url': 'https://api.github.com/repos/google/go-cloud/forks',\n",
       " 'keys_url': 'https://api.github.com/repos/google/go-cloud/keys{/key_id}',\n",
       " 'collaborators_url': 'https://api.github.com/repos/google/go-cloud/collaborators{/collaborator}',\n",
       " 'teams_url': 'https://api.github.com/repos/google/go-cloud/teams',\n",
       " 'hooks_url': 'https://api.github.com/repos/google/go-cloud/hooks',\n",
       " 'issue_events_url': 'https://api.github.com/repos/google/go-cloud/issues/events{/number}',\n",
       " 'events_url': 'https://api.github.com/repos/google/go-cloud/events',\n",
       " 'assignees_url': 'https://api.github.com/repos/google/go-cloud/assignees{/user}',\n",
       " 'branches_url': 'https://api.github.com/repos/google/go-cloud/branches{/branch}',\n",
       " 'tags_url': 'https://api.github.com/repos/google/go-cloud/tags',\n",
       " 'blobs_url': 'https://api.github.com/repos/google/go-cloud/git/blobs{/sha}',\n",
       " 'git_tags_url': 'https://api.github.com/repos/google/go-cloud/git/tags{/sha}',\n",
       " 'git_refs_url': 'https://api.github.com/repos/google/go-cloud/git/refs{/sha}',\n",
       " 'trees_url': 'https://api.github.com/repos/google/go-cloud/git/trees{/sha}',\n",
       " 'statuses_url': 'https://api.github.com/repos/google/go-cloud/statuses/{sha}',\n",
       " 'languages_url': 'https://api.github.com/repos/google/go-cloud/languages',\n",
       " 'stargazers_url': 'https://api.github.com/repos/google/go-cloud/stargazers',\n",
       " 'contributors_url': 'https://api.github.com/repos/google/go-cloud/contributors',\n",
       " 'subscribers_url': 'https://api.github.com/repos/google/go-cloud/subscribers',\n",
       " 'subscription_url': 'https://api.github.com/repos/google/go-cloud/subscription',\n",
       " 'commits_url': 'https://api.github.com/repos/google/go-cloud/commits{/sha}',\n",
       " 'git_commits_url': 'https://api.github.com/repos/google/go-cloud/git/commits{/sha}',\n",
       " 'comments_url': 'https://api.github.com/repos/google/go-cloud/comments{/number}',\n",
       " 'issue_comment_url': 'https://api.github.com/repos/google/go-cloud/issues/comments{/number}',\n",
       " 'contents_url': 'https://api.github.com/repos/google/go-cloud/contents/{+path}',\n",
       " 'compare_url': 'https://api.github.com/repos/google/go-cloud/compare/{base}...{head}',\n",
       " 'merges_url': 'https://api.github.com/repos/google/go-cloud/merges',\n",
       " 'archive_url': 'https://api.github.com/repos/google/go-cloud/{archive_format}{/ref}',\n",
       " 'downloads_url': 'https://api.github.com/repos/google/go-cloud/downloads',\n",
       " 'issues_url': 'https://api.github.com/repos/google/go-cloud/issues{/number}',\n",
       " 'pulls_url': 'https://api.github.com/repos/google/go-cloud/pulls{/number}',\n",
       " 'milestones_url': 'https://api.github.com/repos/google/go-cloud/milestones{/number}',\n",
       " 'notifications_url': 'https://api.github.com/repos/google/go-cloud/notifications{?since,all,participating}',\n",
       " 'labels_url': 'https://api.github.com/repos/google/go-cloud/labels{/name}',\n",
       " 'releases_url': 'https://api.github.com/repos/google/go-cloud/releases{/id}',\n",
       " 'deployments_url': 'https://api.github.com/repos/google/go-cloud/deployments',\n",
       " 'created_at': '2018-03-21T22:57:26Z',\n",
       " 'updated_at': '2023-02-24T18:23:58Z',\n",
       " 'pushed_at': '2023-02-24T09:19:23Z',\n",
       " 'git_url': 'git://github.com/google/go-cloud.git',\n",
       " 'ssh_url': 'git@github.com:google/go-cloud.git',\n",
       " 'clone_url': 'https://github.com/google/go-cloud.git',\n",
       " 'svn_url': 'https://github.com/google/go-cloud',\n",
       " 'homepage': 'https://gocloud.dev/',\n",
       " 'size': 34786,\n",
       " 'stargazers_count': 8890,\n",
       " 'watchers_count': 8890,\n",
       " 'language': 'Go',\n",
       " 'has_issues': True,\n",
       " 'has_projects': False,\n",
       " 'has_downloads': True,\n",
       " 'has_wiki': False,\n",
       " 'has_pages': True,\n",
       " 'has_discussions': False,\n",
       " 'forks_count': 760,\n",
       " 'mirror_url': None,\n",
       " 'archived': False,\n",
       " 'disabled': False,\n",
       " 'open_issues_count': 22,\n",
       " 'license': {'key': 'apache-2.0',\n",
       "  'name': 'Apache License 2.0',\n",
       "  'spdx_id': 'Apache-2.0',\n",
       "  'url': 'https://api.github.com/licenses/apache-2.0',\n",
       "  'node_id': 'MDc6TGljZW5zZTI='},\n",
       " 'allow_forking': True,\n",
       " 'is_template': False,\n",
       " 'web_commit_signoff_required': False,\n",
       " 'topics': ['aws',\n",
       "  'azure',\n",
       "  'cloud',\n",
       "  'gcp',\n",
       "  'go',\n",
       "  'golang',\n",
       "  'hybrid-cloud',\n",
       "  'multi-cloud',\n",
       "  'portable',\n",
       "  'server'],\n",
       " 'visibility': 'public',\n",
       " 'forks': 760,\n",
       " 'open_issues': 22,\n",
       " 'watchers': 8890,\n",
       " 'default_branch': 'master',\n",
       " 'temp_clone_token': None,\n",
       " 'organization': {'login': 'google',\n",
       "  'id': 1342004,\n",
       "  'node_id': 'MDEyOk9yZ2FuaXphdGlvbjEzNDIwMDQ=',\n",
       "  'avatar_url': 'https://avatars.githubusercontent.com/u/1342004?v=4',\n",
       "  'gravatar_id': '',\n",
       "  'url': 'https://api.github.com/users/google',\n",
       "  'html_url': 'https://github.com/google',\n",
       "  'followers_url': 'https://api.github.com/users/google/followers',\n",
       "  'following_url': 'https://api.github.com/users/google/following{/other_user}',\n",
       "  'gists_url': 'https://api.github.com/users/google/gists{/gist_id}',\n",
       "  'starred_url': 'https://api.github.com/users/google/starred{/owner}{/repo}',\n",
       "  'subscriptions_url': 'https://api.github.com/users/google/subscriptions',\n",
       "  'organizations_url': 'https://api.github.com/users/google/orgs',\n",
       "  'repos_url': 'https://api.github.com/users/google/repos',\n",
       "  'events_url': 'https://api.github.com/users/google/events{/privacy}',\n",
       "  'received_events_url': 'https://api.github.com/users/google/received_events',\n",
       "  'type': 'Organization',\n",
       "  'site_admin': False},\n",
       " 'network_count': 760,\n",
       " 'subscribers_count': 233}"
      ]
     },
     "execution_count": 32,
     "metadata": {},
     "output_type": "execute_result"
    }
   ],
   "source": [
    "username = 'codingninjas123'\n",
    "psw = 'cnninjas123'\n",
    "license = requests.get('https://api.github.com/' + 'repos/google/go-cloud',auth=(username,psw))\n",
    "# print(license.json().get('license').get('name'))\n",
    "py_git = license.json()\n",
    "py_git"
   ]
  },
  {
   "cell_type": "code",
   "execution_count": null,
   "metadata": {},
   "outputs": [],
   "source": []
  }
 ],
 "metadata": {
  "kernelspec": {
   "display_name": "Python 3",
   "language": "python",
   "name": "python3"
  },
  "language_info": {
   "name": "python",
   "version": "3.10.0"
  },
  "orig_nbformat": 4,
  "vscode": {
   "interpreter": {
    "hash": "54bb92a6eee68e10e5033f4d91798e83538b3edddb36aac4d20bf11e9c85e892"
   }
  }
 },
 "nbformat": 4,
 "nbformat_minor": 2
}
