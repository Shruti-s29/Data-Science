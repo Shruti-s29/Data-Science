{
 "cells": [
  {
   "cell_type": "code",
   "execution_count": 30,
   "metadata": {},
   "outputs": [],
   "source": [
    "import numpy as np\n",
    "import csv"
   ]
  },
  {
   "attachments": {},
   "cell_type": "markdown",
   "metadata": {},
   "source": [
    "Problem-1 : Terrorism Day\n",
    "Problem Statement :\n",
    "Find the number of attack held between day 10 and day 20?(ignoring the year and month)(including both day)\n",
    "Print count of NumberOFAttack as integer value."
   ]
  },
  {
   "cell_type": "code",
   "execution_count": 31,
   "metadata": {},
   "outputs": [
    {
     "name": "stdout",
     "output_type": "stream",
     "text": [
      "66330\n"
     ]
    }
   ],
   "source": [
    "# no. of attack held between day 10 and 20 inclusively\n",
    "\n",
    "with open('terrorismData.csv',encoding=\"utf8\") as file_obj :\n",
    "    data = csv.DictReader(file_obj,skipinitialspace=True)\n",
    "    \n",
    "    days = []\n",
    "    month = []\n",
    "    year = []\n",
    "    for row in data:\n",
    "        days.append(row['Day'])\n",
    "        month.append(row['Month'])\n",
    "        year.append(row['Year'])\n",
    "    \n",
    "    # print(days)\n",
    "    np_days = np.array(days, dtype=float)\n",
    "    ans = np_days[(np_days>=10) & (np_days<=20)]\n",
    "    # print(ans)\n",
    "    print(len(ans))"
   ]
  },
  {
   "attachments": {},
   "cell_type": "markdown",
   "metadata": {},
   "source": [
    "Problem -2\n",
    "Problem Statement :\n",
    "Find the number of attack held between 1 Jan 2010 and 31 Jan 2010?(including both date).\n",
    "Note Ignore the case where day is 0\n",
    "Print count of NumberOFAttack as integer value."
   ]
  },
  {
   "cell_type": "code",
   "execution_count": 32,
   "metadata": {},
   "outputs": [
    {
     "name": "stdout",
     "output_type": "stream",
     "text": [
      "271\n"
     ]
    }
   ],
   "source": [
    "np_days = np.array(days,dtype = float)\n",
    "np_month = np.array(month,dtype = float)\n",
    "np_year = np.array(year,dtype = float)\n",
    "# print(np_days)\n",
    "# print(np_month)\n",
    "# print(np_year)\n",
    "np_days =  np_days[np_month ==1]\n",
    "np_year = np_year[np_month ==1]\n",
    "np_days = np_days[np_year == 2010] \n",
    "\n",
    "print(len(np_days[np_days!=0]))"
   ]
  },
  {
   "attachments": {},
   "cell_type": "markdown",
   "metadata": {},
   "source": [
    "Problem-3 :Terror Casualty Attack\n",
    "As we knew the Kargil ( in Jammu and Kashmir) War that took place between May 1999 and July 1999 (3 Months) ,so there was a huge conflict in Kashmir Valley during this period.\n",
    "In this dataset, there is no information regarding the war between the two countries to find out the casualty during the war. So find out the attack in this period in which maximum casualties happened.\n",
    "Print the count of casualties (as integer), city in which that attack happened and name of attack group.\n",
    "Note : Casualty = Killed + Wounded.Fill the empty value in killed or wounded feature to 0"
   ]
  },
  {
   "cell_type": "code",
   "execution_count": 33,
   "metadata": {},
   "outputs": [
    {
     "name": "stdout",
     "output_type": "stream",
     "text": [
      "22 Kargil District Separatists\n"
     ]
    }
   ],
   "source": [
    "with open('terrorismData.csv',encoding=\"utf8\") as file_obj :\n",
    "    data = csv.DictReader(file_obj,skipinitialspace=True)\n",
    "\n",
    "    city = []\n",
    "    casualty = []\n",
    "\n",
    "    for row in data:\n",
    "        if row['Month'] in ('5','6','7'):\n",
    "            if row['State']=='Jammu and Kashmir' and row['Year']=='1999':\n",
    "                casualty.append([row['Killed'],row['Wounded']])\n",
    "                city.append([row['City'],row['Group']])\n",
    "\n",
    "    # print(casualty)\n",
    "    # print(city)\n",
    "\n",
    "    np_city = np.array(city)\n",
    "    np_casualty = np.array(casualty)\n",
    "    \n",
    "    np_casualty[np_casualty==''] = \"0.0\"\n",
    "    np_casualty = np.array(np_casualty, dtype = float)\n",
    "\n",
    "    # print(np_casualty)\n",
    "    # print(np_city)\n",
    "    \n",
    "    np_casualty = np.sum(np_casualty, axis=1)\n",
    "    # print(np_casualty)\n",
    "    index = np.argmax(np_casualty)\n",
    "    # print(index)\n",
    "    print(int(np_casualty[index]),np_city[index][0],np_city[index][1])"
   ]
  },
  {
   "attachments": {},
   "cell_type": "markdown",
   "metadata": {},
   "source": [
    "Problem-4 : Terror Casualty Red\n",
    "Problem Statement :\n",
    "Find the casualty in the Red Corridor States ? Mainly Red corridor states include Jharkhand, Odisha, Andhra Pradesh, and Chhattisgarh.\n",
    "Note: Casualty=Killed +Wounded\n",
    "Print count of Casualty as integer value."
   ]
  },
  {
   "cell_type": "code",
   "execution_count": 34,
   "metadata": {},
   "outputs": [
    {
     "name": "stdout",
     "output_type": "stream",
     "text": [
      "5628\n"
     ]
    }
   ],
   "source": [
    "with open('terrorismData.csv',encoding=\"utf8\") as file_obj :\n",
    "    data = csv.DictReader(file_obj,skipinitialspace=True)\n",
    "    casualty =[]\n",
    "    for row in data:\n",
    "        if row['State'] in ('Jharkhand', 'Odisha', 'Andhra Pradesh','Chhattisgarh'):\n",
    "            casualty.append([row['Killed'],row['Wounded']])\n",
    "\n",
    "    np_casualty = np.array(casualty)\n",
    "\n",
    "    np_casualty[np_casualty == ''] = '0.0'\n",
    "    np_casualty = np.array(np_casualty,dtype=float)\n",
    "    \n",
    "    np_casualty =np.sum(np_casualty,axis=1)\n",
    "    tot_casualty = np.sum(np_casualty)\n",
    "    print(int(tot_casualty))"
   ]
  },
  {
   "attachments": {},
   "cell_type": "markdown",
   "metadata": {},
   "source": [
    "Problem Statement :\n",
    "Find top 5 Indian Cities which has most number of casualties ?\n",
    "Print top 5 cities along with total casualties in that city. Print count of Casualty as integer value.\n",
    "Note: Ignoring the City which is Unknown.\n",
    "Casualty = Killed + Wounded."
   ]
  },
  {
   "cell_type": "code",
   "execution_count": 38,
   "metadata": {},
   "outputs": [
    {
     "name": "stdout",
     "output_type": "stream",
     "text": [
      "Srinagar 3134\n",
      "New Delhi 2095\n",
      "Mumbai 2016\n",
      "Jammu 1119\n",
      "Guwahati 822\n"
     ]
    }
   ],
   "source": [
    "from collections import Counter \n",
    "\n",
    "with open('terrorismData.csv',encoding=\"utf8\") as file_obj :\n",
    "    data = csv.DictReader(file_obj,skipinitialspace=True)\n",
    "\n",
    "    city = []\n",
    "    casualty = []\n",
    "\n",
    "    for row in data:\n",
    "        if row[\"Country\"] == 'India' and row['City'] != 'Unknown':\n",
    "            casualty.append([row['Killed'],row['Wounded']])\n",
    "            city.append(row['City'])\n",
    "\n",
    "    np_city = np.array(city)\n",
    "    np_casualty = np.array(casualty)\n",
    "    \n",
    "    np_casualty[np_casualty==''] = \"0.0\"\n",
    "    np_casualty = np.array(np_casualty, dtype = float)\n",
    "    np_casualty = np.sum(np_casualty, axis=1)\n",
    "\n",
    "    # print(np_city)\n",
    "    dictCityCasualty ={}\n",
    "    for i in range(len(np_city)):\n",
    "        if np_city[i] in dictCityCasualty:\n",
    "            dictCityCasualty[np_city[i]] += np_casualty[i]\n",
    "        else:\n",
    "            dictCityCasualty[np_city[i]] = np_casualty[i]\n",
    "    # print(dictCityCasualty)\n",
    "    k = Counter(dictCityCasualty)\n",
    "    # print(k)\n",
    "    high = k.most_common(5) \n",
    "    for i in high: \n",
    "        print(i[0],int(i[1])) "
   ]
  },
  {
   "attachments": {},
   "cell_type": "markdown",
   "metadata": {},
   "source": [
    "Problem Statement :\n",
    "Find the most frequent day of attack in a terrorismDataset ? Note: Here np.unique can be used.\n",
    "Print count of frequent day and number of attack as Integer value."
   ]
  },
  {
   "cell_type": "code",
   "execution_count": 42,
   "metadata": {},
   "outputs": [
    {
     "name": "stdout",
     "output_type": "stream",
     "text": [
      "15 6500\n"
     ]
    }
   ],
   "source": [
    "with open('terrorismData.csv',encoding=\"utf8\") as file_obj :\n",
    "    data = csv.DictReader(file_obj,skipinitialspace=True)\n",
    "    \n",
    "    day = []\n",
    "    for row in data:\n",
    "        day.append(row['Day'])\n",
    "        \n",
    "    np_day = np.array(day, dtype='int')\n",
    "    day, count = np.unique(np_day, return_counts=True)          # generating freq table in one line\n",
    "    \n",
    "    index = np.argmax(count)\n",
    "    print(day[index], count[index])"
   ]
  }
 ],
 "metadata": {
  "kernelspec": {
   "display_name": "Python 3",
   "language": "python",
   "name": "python3"
  },
  "language_info": {
   "codemirror_mode": {
    "name": "ipython",
    "version": 3
   },
   "file_extension": ".py",
   "mimetype": "text/x-python",
   "name": "python",
   "nbconvert_exporter": "python",
   "pygments_lexer": "ipython3",
   "version": "3.10.0"
  },
  "orig_nbformat": 4,
  "vscode": {
   "interpreter": {
    "hash": "54bb92a6eee68e10e5033f4d91798e83538b3edddb36aac4d20bf11e9c85e892"
   }
  }
 },
 "nbformat": 4,
 "nbformat_minor": 2
}
