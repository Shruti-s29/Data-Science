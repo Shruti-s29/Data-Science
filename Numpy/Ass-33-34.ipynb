{
 "cells": [
  {
   "cell_type": "code",
   "execution_count": 2,
   "id": "155e273a",
   "metadata": {},
   "outputs": [],
   "source": [
    "import numpy as np\n",
    "import csv"
   ]
  },
  {
   "attachments": {},
   "cell_type": "markdown",
   "id": "8a07fd87",
   "metadata": {},
   "source": [
    "Given file \"terrorismData.csv\" It is an open-source database including information on terrorist attacks around the world from 1970 through 2017. This dataset includes systematic data on domestic as well as international terrorist incidents that have occurred during this time period\n",
    "\n",
    "Problem-14 : Killed in USA\n",
    "Problem Statement :\n",
    "Find value of killed column only where country == ‘United States’?\n",
    "Print 0 in place of missing values.\n",
    "Print count of Killed as integer value\n",
    "\n",
    "Problem-15 : Total Killed in USA\n",
    "Problem Statement :\n",
    "Find total number of people killed from USA?\n",
    "Note: Some columns of killed are empty so replace them by 0.\n",
    "Print count of Killed as integer value."
   ]
  },
  {
   "cell_type": "code",
   "execution_count": 12,
   "id": "9c1ee3bb",
   "metadata": {},
   "outputs": [
    {
     "name": "stdout",
     "output_type": "stream",
     "text": [
      "3771.0\n"
     ]
    }
   ],
   "source": [
    "### MY APPROACH (NO NUMPY)\n",
    "## killed in US \n",
    "# total killed in US\n",
    "with open('terrorismData.csv',encoding=\"utf8\") as file_obj :\n",
    "    data = csv.DictReader(file_obj,skipinitialspace=True)\n",
    "    total = 0\n",
    "    for row in data:\n",
    "        if row['Country']=='United States':\n",
    "            if row['Killed'] == '':\n",
    "                ##print(0)\n",
    "                total+=0\n",
    "\n",
    "            else:\n",
    "                ##print(row['Killed'])\n",
    "                total += float(row['Killed'])\n",
    "    print(total)"
   ]
  },
  {
   "cell_type": "code",
   "execution_count": 16,
   "id": "7eac32ef",
   "metadata": {},
   "outputs": [
    {
     "name": "stdout",
     "output_type": "stream",
     "text": [
      "Killed [0. 0. 0. ... 0. 0. 1.]\n",
      "total killed- 3771\n"
     ]
    }
   ],
   "source": [
    "## GIT APPROACH (WITH NUMPY)\n",
    "\n",
    "#killed in US\n",
    "with open('terrorismData.csv',encoding=\"utf8\") as file_obj :\n",
    "    data = csv.DictReader(file_obj,skipinitialspace=True)\n",
    "\n",
    "    killed = []\n",
    "    country = []\n",
    "    for row in data:\n",
    "        killed.append(row['Killed'])\n",
    "        country.append(row['Country'])\n",
    "\n",
    "    np_killed = np.array(killed)\n",
    "    np_country = np.array(country)\n",
    "    \n",
    "    np_killed[np_killed == ''] = '0.0'          # empty values convertion to zero   SINGLE LINE CONDITION\n",
    "    np_killed = np.array(np_killed,dtype=float)     # float type convertion beacuase it was of str type\n",
    "    \n",
    "    np_country = np.array(country)\n",
    "    bool_arr = np_country==\"United States\"      # to be noted\n",
    "    ans = np_killed[bool_arr]\n",
    "    print('Killed',ans)\n",
    "\n",
    "\n",
    "# total killed\n",
    "with open('terrorismData.csv',encoding=\"utf8\") as file_obj :\n",
    "    data = csv.DictReader(file_obj,skipinitialspace=True)\n",
    "\n",
    "    killed = []\n",
    "    country = []\n",
    "    for row in data:\n",
    "        killed.append(row['Killed'])\n",
    "        country.append(row['Country'])\n",
    "\n",
    "    np_killed = np.array(killed)\n",
    "    np_country = np.array(country)\n",
    "    \n",
    "    np_killed[np_killed=='']= '0.0'\n",
    "    np_killed = np.array(np_killed,dtype=float)\n",
    "    \n",
    "    np_country = np.array(country)\n",
    "    bool_arr = np_country == \"United States\"\n",
    "    ans = np_killed[bool_arr]\n",
    "    \n",
    "    print('total killed-',int(np.sum(ans)))"
   ]
  },
  {
   "cell_type": "code",
   "execution_count": null,
   "id": "6de3b265",
   "metadata": {},
   "outputs": [],
   "source": []
  }
 ],
 "metadata": {
  "kernelspec": {
   "display_name": "Python 3",
   "language": "python",
   "name": "python3"
  },
  "language_info": {
   "codemirror_mode": {
    "name": "ipython",
    "version": 3
   },
   "file_extension": ".py",
   "mimetype": "text/x-python",
   "name": "python",
   "nbconvert_exporter": "python",
   "pygments_lexer": "ipython3",
   "version": "3.10.0"
  },
  "vscode": {
   "interpreter": {
    "hash": "54bb92a6eee68e10e5033f4d91798e83538b3edddb36aac4d20bf11e9c85e892"
   }
  }
 },
 "nbformat": 4,
 "nbformat_minor": 5
}
