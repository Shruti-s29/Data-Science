{
 "cells": [
  {
   "attachments": {},
   "cell_type": "markdown",
   "metadata": {},
   "source": [
    "This dataset has funding information of the Indian startups from January 2015 to August 2017.\n",
    "Feature Details :\n",
    "SNo - Serial number.\n",
    "Date - Date of funding in format DD/MM/YYYY.\n",
    "StartupName - Name of the startup which got funded.\n",
    "IndustryVertical - Industry to which the startup belongs.\n",
    "SubVertical - Sub-category of the industry type.\n",
    "CityLocation - City which the startup is based out of.\n",
    "InvestorsName - Name of the investors involved in the funding round.\n",
    "InvestmentType - Either Private Equity or Seed Funding.\n",
    "AmountInUSD - Funding Amount in USD.\n",
    "Remarks - Other information"
   ]
  },
  {
   "cell_type": "code",
   "execution_count": 1,
   "metadata": {},
   "outputs": [],
   "source": [
    "import pandas as pd\n",
    "import csv\n",
    "import matplotlib.pyplot as plt\n",
    "import numpy as np\n",
    "%matplotlib inline\n",
    "file_df = pd.read_csv('startup_funding.csv',index_col=False) # returns a dataframe\n",
    "# file.head()"
   ]
  },
  {
   "attachments": {},
   "cell_type": "markdown",
   "metadata": {},
   "source": [
    "**Insights to be taken-**\n",
    "Find out what type of startups are getting funded in last few years?\n",
    "Who are the important investors?\n",
    "What are the hot feilds that get alot of funding these days?\n"
   ]
  }
 ],
 "metadata": {
  "kernelspec": {
   "display_name": "Python 3",
   "language": "python",
   "name": "python3"
  },
  "language_info": {
   "codemirror_mode": {
    "name": "ipython",
    "version": 3
   },
   "file_extension": ".py",
   "mimetype": "text/x-python",
   "name": "python",
   "nbconvert_exporter": "python",
   "pygments_lexer": "ipython3",
   "version": "3.10.0"
  },
  "orig_nbformat": 4,
  "vscode": {
   "interpreter": {
    "hash": "54bb92a6eee68e10e5033f4d91798e83538b3edddb36aac4d20bf11e9c85e892"
   }
  }
 },
 "nbformat": 4,
 "nbformat_minor": 2
}
