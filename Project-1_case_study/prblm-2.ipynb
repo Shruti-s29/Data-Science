{
 "cells": [
  {
   "attachments": {},
   "cell_type": "markdown",
   "metadata": {},
   "source": [
    "Problem 2 : Top Indian Cities\n",
    "Problem Statement :\n",
    "Find out which cities are generally chosen for starting a startup. Find top 10 Indian cities which have most number of startups ? Plot a pie chart and visualise it. Print the city name and number of startups in that city also.\n",
    "Note : Take city name \"Delhi\" as \"New Delhi\".\n",
    "Check the case-sensitiveness of cities also. That means - at some place, instead of \"Bangalore\", \"bangalore\" is given. Take city name as \"Bangalore\".\n",
    "For few startups multiple locations are given, one Indian and one Foreign. Count those startups in Indian startup also. Indian city name is first.\n",
    "Print the city in descending order with respect to the number of startups."
   ]
  },
  {
   "cell_type": "code",
   "execution_count": null,
   "metadata": {},
   "outputs": [],
   "source": [
    "import pandas as pd\n",
    "import numpy as np\n",
    "import matplotlib.pyplot as plt\n",
    "%matplotlib inline\n",
    "\n",
    "\n",
    "df = pd.read_csv('startup_funding.csv',encoding = 'utf-8')\n",
    "#df['CityLocation'].dropna(inplace=True)\n",
    "df.dropna(subset=[\"CityLocation\"],inplace=True)\n",
    "#df.tail()\n",
    "def separateCity(city): \n",
    "    return city.split('/')[0].strip() \n",
    "df['CityLocation']=df['CityLocation'].apply(separateCity) \n",
    "df[df['CityLocation']=='bangalore'] = 'Bangalore'\n",
    "df[df['CityLocation']=='Delhi'] = 'New Delhi'\n",
    "\n",
    "city = df['CityLocation']\n",
    "city = city.value_counts()[:10]\n",
    "city_name = city.index\n",
    "no_of_str = city.values\n",
    "\n",
    "plt.pie(no_of_str, labels=city_name, autopct='%.2f%%',counterclock=False)\n",
    "plt.title('Number of startup in city')\n",
    "plt.axis(\"equal\")\n",
    "plt.show()\n",
    "\n",
    "for i in range(city_name.shape[0]):\n",
    "    print(city_name[i],no_of_str[i])"
   ]
  }
 ],
 "metadata": {
  "kernelspec": {
   "display_name": "Python 3",
   "language": "python",
   "name": "python3"
  },
  "language_info": {
   "name": "python",
   "version": "3.10.0"
  },
  "orig_nbformat": 4,
  "vscode": {
   "interpreter": {
    "hash": "54bb92a6eee68e10e5033f4d91798e83538b3edddb36aac4d20bf11e9c85e892"
   }
  }
 },
 "nbformat": 4,
 "nbformat_minor": 2
}
