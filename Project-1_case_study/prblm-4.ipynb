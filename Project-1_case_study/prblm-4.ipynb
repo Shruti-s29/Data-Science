{
 "cells": [
  {
   "attachments": {},
   "cell_type": "markdown",
   "metadata": {},
   "source": [
    "Problem 4 : Investment Type\n",
    "Problem Statement :\n",
    "There are 4 different type of investments. Find out percentage of amount funded for each investment type.\n",
    "Plot a pie chart to visualise.\n",
    "Print the investment type and percentage of amount funded with 2 decimal places after rounding off.\n",
    "Note :\n",
    "Correct spelling of investment types are - \"Private Equity\", \"Seed Funding\", \"Debt Funding\", and \"Crowd Funding\". Keep an eye for any spelling mistake. You can find this by printing unique values from this column.\n",
    "Print the investment type in descending order with respect to the percentage of the amount funded."
   ]
  },
  {
   "cell_type": "code",
   "execution_count": null,
   "metadata": {},
   "outputs": [],
   "source": [
    "import numpy as np\n",
    "import pandas as pd\n",
    "import matplotlib.pyplot as plt\n",
    "\n",
    "\n",
    "df = pd.read_csv('startup_funding.csv',encoding = 'utf-8')\n",
    "df['InvestmentType'].replace('SeedFunding','Seed Funding',inplace = True)\n",
    "df['InvestmentType'].replace('PrivateEquity','Private Equity',inplace = True)\n",
    "df['InvestmentType'].replace('DebtFunding','Debt Funding',inplace = True)\n",
    "df['InvestmentType'].replace('Crowd funding','Crowd Funding',inplace = True)\n",
    "df['AmountInUSD'] = df['AmountInUSD'].apply(lambda x: float(str(x).replace(\",\",\"\")))\n",
    "\n",
    "df = df.groupby('InvestmentType')['AmountInUSD'].sum()\n",
    "df = df.sort_values(ascending = False)[:10]\n",
    "investment = df.index\n",
    "amount = df.values\n",
    "\n",
    "plt.pie(amount,labels = investment,autopct='%0.2f',counterclock=False,startangle=110)\n",
    "plt.show()\n",
    "\n",
    "percent = np.true_divide(amount,amount.sum())*100\n",
    "for i in range(len(investment)):\n",
    "    print(investment[i],format(percent[i],'0.2f'))"
   ]
  }
 ],
 "metadata": {
  "language_info": {
   "name": "python"
  },
  "orig_nbformat": 4
 },
 "nbformat": 4,
 "nbformat_minor": 2
}
