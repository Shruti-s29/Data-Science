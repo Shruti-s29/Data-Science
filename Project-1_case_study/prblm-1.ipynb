{
 "cells": [
  {
   "attachments": {},
   "cell_type": "markdown",
   "metadata": {},
   "source": [
    "Problem 1 : Number of Fundings\n",
    "Problem Statement :\n",
    "Check the trend of investments over the years. To check the trend, find - Total number of fundings done in each year. Plot a line graph between year and number of fundings. Take year on x-axis and number of fundings on y-axis.\n",
    "Print year-wise total number of fundings also. Print years in ascending order.\n",
    "Note : There is some error in the 'Date' feature. Make sure to handle that."
   ]
  },
  {
   "cell_type": "code",
   "execution_count": null,
   "metadata": {},
   "outputs": [],
   "source": [
    "# for bar plotting\n",
    "import csv\n",
    "import matplotlib.pyplot as plt\n",
    "%matplotlib inline\n",
    "import collections\n",
    "with open('startup_funding.csv', encoding ='UTF-8') as file_obj:\n",
    "    file_data = csv.DictReader(file_obj, skipinitialspace=True)\n",
    "\n",
    "    dct = {}\n",
    "    for row in file_data:\n",
    "        year = row['Date'][-4:]\n",
    "        if year in dct:\n",
    "            dct[year] += 1\n",
    "        else:\n",
    "            dct[year] = 1\n",
    "            \n",
    "    ord_dct = collections.OrderedDict(sorted(dct.items()))                                  \n",
    "    plt.plot(list(ord_dct.keys()),list(ord_dct.values()))\n",
    "    plt.xlabel(\"Year\")\n",
    "    plt.ylabel(\"Number of Fundings\")\n",
    "    plt.title('Year VS \"Number of Fundings\"')\n",
    "    plt.show()\n",
    "    \n",
    "    for i in ord_dct.keys():\n",
    "        print(i,end=\" \")\n",
    "        print(ord_dct[i])"
   ]
  }
 ],
 "metadata": {
  "kernelspec": {
   "display_name": "Python 3",
   "language": "python",
   "name": "python3"
  },
  "language_info": {
   "name": "python",
   "version": "3.10.0"
  },
  "orig_nbformat": 4,
  "vscode": {
   "interpreter": {
    "hash": "54bb92a6eee68e10e5033f4d91798e83538b3edddb36aac4d20bf11e9c85e892"
   }
  }
 },
 "nbformat": 4,
 "nbformat_minor": 2
}
