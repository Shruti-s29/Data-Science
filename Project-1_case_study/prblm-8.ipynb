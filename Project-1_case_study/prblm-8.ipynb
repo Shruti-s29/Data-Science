{
 "cells": [
  {
   "attachments": {},
   "cell_type": "markdown",
   "metadata": {},
   "source": [
    "Problem 8 : Top Investor\n",
    "Problem Statement :\n",
    "Find the Investors who have invested maximum number of times.\n",
    "Print the investor name and number of times invested as integer value.\n",
    "Note:\n",
    "In startup, multiple investors might have invested. So consider each investor for that startup. Ignore the undisclosed investors."
   ]
  },
  {
   "cell_type": "code",
   "execution_count": null,
   "metadata": {},
   "outputs": [],
   "source": [
    "import pandas as pd\n",
    "import numpy as np\n",
    "import collections\n",
    "\n",
    "df = pd.read_csv('startup_funding.csv',encoding = 'utf-8')\n",
    "df.InvestorsName.fillna(\"\",inplace = True)\n",
    "investors = df.InvestorsName\n",
    "\n",
    "investors_name = []\n",
    "for i in investors:\n",
    "    if i != \"\":\n",
    "        temp = i.split(\",\")\n",
    "        for j in temp:\n",
    "            investors_name.append(j.strip())\n",
    "dct = {}\n",
    "for i in investors_name:\n",
    "    dct[i] = dct.get(i,0) + 1\n",
    "for i in dct:\n",
    "    print(i, dct[i])\n",
    "#dct_keys = sorted(dct,key=dct.get,reverse=True)\n",
    "#print(dct_keys[0],dct[dct_keys[0]])"
   ]
  }
 ],
 "metadata": {
  "language_info": {
   "name": "python"
  },
  "orig_nbformat": 4
 },
 "nbformat": 4,
 "nbformat_minor": 2
}
