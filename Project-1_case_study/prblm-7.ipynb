{
 "cells": [
  {
   "attachments": {},
   "cell_type": "markdown",
   "metadata": {},
   "source": [
    "Problem 7 :\n",
    "Problem Statement :\n",
    "Find the top 5 startups who received the most number of funding rounds. That means, startups which got fundings maximum number of times.\n",
    "Print the startup name in descending order with respect to the number of funding round as integer value.\n",
    "Note:\n",
    "Ola, Flipkart, Oyo, Paytm are important startups, so correct their names. There are many errors in startup names, ignore correcting all, just handle important ones.\n",
    "\n",
    "import pandas as pd"
   ]
  },
  {
   "cell_type": "code",
   "execution_count": null,
   "metadata": {},
   "outputs": [],
   "source": [
    "import pandas as pd\n",
    "import numpy as np\n",
    "import matplotlib.pyplot as plt\n",
    "\n",
    "df = pd.read_csv('startup_funding.csv',encoding = 'utf-8')\n",
    "df['StartupName'].replace('Oyorooms','Oyo',inplace = True)\n",
    "df['StartupName'].replace('OyoRooms','Oyo',inplace = True)\n",
    "df['StartupName'].replace('Oyo Rooms','Oyo',inplace = True)\n",
    "df['StartupName'].replace('OYO Rooms','Oyo',inplace = True)\n",
    "df['StartupName'].replace('Olacabs','Ola',inplace = True)\n",
    "df['StartupName'].replace('Ola Cabs','Ola',inplace = True)\n",
    "df['StartupName'].replace('Olacabs','Ola',inplace = True)\n",
    "df['StartupName'].replace('Flipkart.com','Flipkart',inplace = True)\n",
    "df['StartupName'].replace('Paytm Marketplace','Paytm',inplace = True)\n",
    "\n",
    "totalfunding = df['StartupName'].value_counts()[:5]\n",
    "startupname = totalfunding.index\n",
    "count = totalfunding.values\n",
    "for i in range(5):\n",
    "    print(startupname[i],count[i])"
   ]
  }
 ],
 "metadata": {
  "language_info": {
   "name": "python"
  },
  "orig_nbformat": 4
 },
 "nbformat": 4,
 "nbformat_minor": 2
}
