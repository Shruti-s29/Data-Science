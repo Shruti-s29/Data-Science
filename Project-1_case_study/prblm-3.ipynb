{
 "cells": [
  {
   "attachments": {},
   "cell_type": "markdown",
   "metadata": {},
   "source": [
    "Problem 3 : Funding amount\n",
    "Problem Statement :\n",
    "Find out if cities play any role in receiving funding.\n",
    "Find top 10 Indian cities with most amount of fundings received. Find out percentage of funding each city has got (among top 10 Indian cities only).\n",
    "Print the city and percentage with 2 decimal place after rounding off. Note:\n",
    "Take city name \"Delhi\" as \"New Delhi\".\n",
    "Check the case-sensitiveness of cities also. That means - at some place, instead of \"Bangalore\", \"bangalore\" is given. Take city name as \"Bangalore\".\n",
    "For few startups multiple locations are given, one Indian and one Foreign. Count those startups in Indian startup also. Indian city name is first.\n",
    "Print the city in descending order with respect to the percentage of funding."
   ]
  },
  {
   "cell_type": "code",
   "execution_count": null,
   "metadata": {},
   "outputs": [],
   "source": [
    "import pandas as pd\n",
    "import numpy as np\n",
    "import matplotlib.pyplot as plt\n",
    "%matplotlib inline\n",
    "\n",
    "\n",
    "df = pd.read_csv('startup_funding.csv',encoding = 'utf-8')\n",
    "df.dropna(subset=[\"CityLocation\"],inplace=True)\n",
    "def separateCity(city):\n",
    "    return city.split('/')[0].strip()\n",
    "df['CityLocation'] = df['CityLocation'].apply(separateCity)\n",
    "df['CityLocation'].replace(\"Delhi\",\"New Delhi\",inplace = True)\n",
    "df['CityLocation'].replace(\"bangalore\",\"Bangalore\",inplace = True)\n",
    "\n",
    "df['AmountInUSD'] = df['AmountInUSD'].apply(lambda x: float(str(x).replace(\",\",\"\")))\n",
    "df = df.groupby('CityLocation')['AmountInUSD'].sum()\n",
    "df = df.sort_values(ascending = False)[0:10]\n",
    "city = df.index\n",
    "amount = df.values\n",
    "explode = [0.2,0.2,0.2,0.2,0.1,0.1,0.2,0.2,0.2,0.2]\n",
    "plt.pie(amount,labels = city,autopct='%0.2f',counterclock=False,startangle=90,explode =explode,radius=1.5)\n",
    "plt.show()\n",
    "\n",
    "percent = np.true_divide(amount,amount.sum())*100\n",
    "for i in range(len(city)):\n",
    "    print(city[i],format(percent[i],'0.2f'))"
   ]
  }
 ],
 "metadata": {
  "kernelspec": {
   "display_name": "Python 3",
   "language": "python",
   "name": "python3"
  },
  "language_info": {
   "name": "python",
   "version": "3.10.0"
  },
  "orig_nbformat": 4,
  "vscode": {
   "interpreter": {
    "hash": "54bb92a6eee68e10e5033f4d91798e83538b3edddb36aac4d20bf11e9c85e892"
   }
  }
 },
 "nbformat": 4,
 "nbformat_minor": 2
}
