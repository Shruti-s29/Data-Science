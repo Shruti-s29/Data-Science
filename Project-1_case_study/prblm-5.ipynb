{
 "cells": [
  {
   "attachments": {},
   "cell_type": "markdown",
   "metadata": {},
   "source": [
    "Problem 5 : Top Industries\n",
    "Problem Statement :\n",
    "Which type of companies got more easily funding. To answer this question, find Top 5 industries and percentage of the total amount funded to that industry. (among top 5 only) Print the industry name and percentage of the amount funded with 2 decimal place after rounding off.\n",
    "Note :\n",
    "Ecommerce is the right word in IndustryVertical, so correct it.\n",
    "Print the industry in descending order with respect to the percentage of the amount funded."
   ]
  },
  {
   "cell_type": "code",
   "execution_count": null,
   "metadata": {},
   "outputs": [],
   "source": [
    "import pandas as pd\n",
    "import numpy as np\n",
    "import matplotlib.pyplot as plt\n",
    "\n",
    "df = pd.read_csv('startup_funding.csv',encoding = 'utf-8')\n",
    "df['IndustryVertical'].replace('ECommerce','Ecommerce',inplace = True)\n",
    "df['IndustryVertical'].replace('eCommerce','Ecommerce',inplace = True)\n",
    "df['IndustryVertical'].replace('ecommerce','Ecommerce',inplace = True)\n",
    "df['AmountInUSD'] = df['AmountInUSD'].apply(lambda x: float(str(x).replace(\",\",\"\")))\n",
    "df = df.groupby('IndustryVertical')['AmountInUSD'].sum()\n",
    "df = df.sort_values(ascending = False)[:5]\n",
    "industry = df.index\n",
    "amount = df.values\n",
    "\n",
    "plt.pie(amount,labels = industry,autopct='%0.2f',counterclock=False,startangle=100)\n",
    "plt.show()\n",
    "percent = np.true_divide(amount,amount.sum())*100\n",
    "for i in range(len(industry)):\n",
    "    print(industry[i],format(percent[i],'0.2f'))"
   ]
  }
 ],
 "metadata": {
  "language_info": {
   "name": "python"
  },
  "orig_nbformat": 4
 },
 "nbformat": 4,
 "nbformat_minor": 2
}
